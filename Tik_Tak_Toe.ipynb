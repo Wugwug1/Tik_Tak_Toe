{
 "cells": [
  {
   "cell_type": "code",
   "execution_count": null,
   "id": "d3bedb42-76dd-4c7a-bf5a-d5f2877889a8",
   "metadata": {},
   "outputs": [],
   "source": [
    "#Step 1\n",
    "from IPython.display import clear_output\n",
    "\n",
    "def display_board(board):\n",
    "    clear_output()\n",
    "    print(board[7]+\" | \"+board[8]+\" | \"+board[9])\n",
    "    print(\"---------\")\n",
    "    print(board[4]+\" | \"+board[5]+\" | \"+board[6])\n",
    "    print(\"---------\")\n",
    "    print(board[1]+\" | \"+board[2]+\" | \"+board[3])\n",
    "    "
   ]
  },
  {
   "cell_type": "code",
   "execution_count": null,
   "id": "7c0a4a40-bf70-4006-8bd7-f737b6c1a9fb",
   "metadata": {},
   "outputs": [],
   "source": [
    "test_board = ['#','X','O','X','O','X','O','X','O','X']\n",
    "display_board(test_board)"
   ]
  },
  {
   "cell_type": "code",
   "execution_count": null,
   "id": "f9d3dcb2-f93f-477f-8256-eb136172dd94",
   "metadata": {},
   "outputs": [],
   "source": [
    "empty_board = [' ']*10\n",
    "display_board(empty_board)"
   ]
  },
  {
   "cell_type": "code",
   "execution_count": null,
   "id": "41a4e403-86b9-4165-8473-d2213f2858e7",
   "metadata": {},
   "outputs": [],
   "source": [
    "#Step 2"
   ]
  },
  {
   "cell_type": "code",
   "execution_count": null,
   "id": "d8dceba1-ab89-4aa0-a447-37dd520c692c",
   "metadata": {},
   "outputs": [],
   "source": [
    "def player_input():\n",
    "\n",
    "    marker = ''\n",
    "\n",
    "    #KEEP ASKING PLAYER 1 to choose X or O\n",
    "\n",
    "    while marker != \"X\" and marker != \"O\":\n",
    "        marker = input(\"Player 1, choose X or O: \")\n",
    "    \n",
    "    #ASSIGN PLAYER 2 , the opposite marker\n",
    "    player1 = marker\n",
    "\n",
    "    if player1 == \"X\":\n",
    "        player2 = \"O\"\n",
    "    else:\n",
    "        player2 = \"X\"\n",
    "\n",
    "    return (player1,player2)"
   ]
  },
  {
   "cell_type": "code",
   "execution_count": null,
   "id": "cfe73c45-268c-4969-ab31-03bd186f4f2d",
   "metadata": {},
   "outputs": [],
   "source": [
    "player_input()"
   ]
  },
  {
   "cell_type": "code",
   "execution_count": null,
   "id": "150d8539-176f-46e7-9b17-8bbb9b506c5c",
   "metadata": {},
   "outputs": [],
   "source": [
    "#Step 3"
   ]
  },
  {
   "cell_type": "code",
   "execution_count": null,
   "id": "5b064d32-98bc-4747-896a-d0e4fa9df0f8",
   "metadata": {},
   "outputs": [],
   "source": [
    "def place_marker(board, marker, position):\n",
    "    board[position] = marker"
   ]
  },
  {
   "cell_type": "code",
   "execution_count": null,
   "id": "b961212f-68b1-41ef-b430-c358ab182dac",
   "metadata": {},
   "outputs": [],
   "source": [
    "place_marker(test_board, \"B\",8)\n",
    "display_board(test_board)"
   ]
  },
  {
   "cell_type": "code",
   "execution_count": null,
   "id": "3eaad806-4b06-4cd5-b709-27821427483d",
   "metadata": {},
   "outputs": [],
   "source": [
    "#Step 4"
   ]
  },
  {
   "cell_type": "code",
   "execution_count": null,
   "id": "52f002f9-89b1-4040-8b77-ce01206d9316",
   "metadata": {},
   "outputs": [],
   "source": [
    "def win_check(board,mark):\n",
    "    \n",
    "    return ((board[7] == mark and board[8] == mark and board[9] == mark) or # across the top\n",
    "    (board[4] == mark and board[5] == mark and board[6] == mark) or # across the middle\n",
    "    (board[1] == mark and board[2] == mark and board[3] == mark) or # across the bottom\n",
    "    (board[7] == mark and board[4] == mark and board[1] == mark) or # down the middle\n",
    "    (board[8] == mark and board[5] == mark and board[2] == mark) or # down the middle\n",
    "    (board[9] == mark and board[6] == mark and board[3] == mark) or # down the right side\n",
    "    (board[7] == mark and board[5] == mark and board[3] == mark) or # diagonal\n",
    "    (board[9] == mark and board[5] == mark and board[1] == mark)) # diagonal"
   ]
  },
  {
   "cell_type": "code",
   "execution_count": null,
   "id": "533f04d4-5083-4eac-a962-1af43c2cce4f",
   "metadata": {},
   "outputs": [],
   "source": [
    "win_check(test_board,'X')"
   ]
  },
  {
   "cell_type": "code",
   "execution_count": null,
   "id": "397fe922-652d-440e-af19-2003806f662b",
   "metadata": {},
   "outputs": [],
   "source": [
    "#Step 5"
   ]
  },
  {
   "cell_type": "code",
   "execution_count": null,
   "id": "a8ee8e43-f758-4a0f-8f97-562862e14d04",
   "metadata": {},
   "outputs": [],
   "source": [
    "import random\n",
    "\n",
    "def choose_first():\n",
    "    if random.randint(0,1) == 0:\n",
    "        return \"Player 2\"\n",
    "    else:\n",
    "        return \"Player 1\""
   ]
  },
  {
   "cell_type": "code",
   "execution_count": null,
   "id": "02d6bdb5-a998-49c3-a0d5-8c7104fb6129",
   "metadata": {},
   "outputs": [],
   "source": [
    "choose_first()"
   ]
  },
  {
   "cell_type": "code",
   "execution_count": null,
   "id": "c560e457-2d47-42ca-bce5-1476b3480824",
   "metadata": {},
   "outputs": [],
   "source": [
    "#Step 6"
   ]
  },
  {
   "cell_type": "code",
   "execution_count": null,
   "id": "cbccb63d-538f-4f86-abbc-c99d692606e1",
   "metadata": {},
   "outputs": [],
   "source": [
    "def space_check(board,position):\n",
    "\n",
    "    return board[position] == \" \""
   ]
  },
  {
   "cell_type": "code",
   "execution_count": null,
   "id": "beba92c0-dc96-4e19-b81e-3aab1e14dfcc",
   "metadata": {},
   "outputs": [],
   "source": [
    "#Step 7"
   ]
  },
  {
   "cell_type": "code",
   "execution_count": null,
   "id": "caa81de5-dd1d-421c-9e1d-6f41303faac2",
   "metadata": {},
   "outputs": [],
   "source": [
    "def full_board_check(board):\n",
    "    for i in range(1,10):\n",
    "        if space_check(board,i):\n",
    "            return False\n",
    "    return True"
   ]
  },
  {
   "cell_type": "code",
   "execution_count": null,
   "id": "328f3cb2-fd59-4f0f-ac88-847d8d6950c6",
   "metadata": {},
   "outputs": [],
   "source": [
    "#Step 8"
   ]
  },
  {
   "cell_type": "code",
   "execution_count": null,
   "id": "ccf832d2-4e90-425d-b6dd-73517c46bc7b",
   "metadata": {},
   "outputs": [],
   "source": [
    "def player_choice(board):\n",
    "    position = 0\n",
    "    \n",
    "    while position not in [1,2,3,4,5,6,7,8,9] or not space_check(board, position):\n",
    "        position = int(input('Choose your next position: (1-9) '))\n",
    "        \n",
    "    return position"
   ]
  },
  {
   "cell_type": "code",
   "execution_count": null,
   "id": "38543127-39f2-40a2-94ba-dd97c85bb7ab",
   "metadata": {},
   "outputs": [],
   "source": [
    "#Step 9"
   ]
  },
  {
   "cell_type": "code",
   "execution_count": null,
   "id": "cddda965-f47e-432f-9698-cc53be2f32dc",
   "metadata": {},
   "outputs": [],
   "source": [
    "def replay():\n",
    "    \n",
    "    return input('Do you want to play again? Enter Yes or No: ').lower().startswith('y')"
   ]
  },
  {
   "cell_type": "code",
   "execution_count": null,
   "id": "bf004bad-c680-4039-8b1f-ce95bd49d0be",
   "metadata": {},
   "outputs": [],
   "source": [
    "#Step 10"
   ]
  },
  {
   "cell_type": "code",
   "execution_count": null,
   "id": "758bc106-5f24-4f72-9a8e-58af7d374876",
   "metadata": {},
   "outputs": [],
   "source": [
    "print('Welcome to Tic Tac Toe!')\n",
    "\n",
    "while True:\n",
    "    # Reset the board\n",
    "    theBoard = [' '] * 10\n",
    "    player1_marker, player2_marker = player_input()\n",
    "    turn = choose_first()\n",
    "    print(turn + ' will go first.')\n",
    "    \n",
    "    play_game = input('Are you ready to play? Enter Yes or No.')\n",
    "    \n",
    "    if play_game.lower()[0] == 'y':\n",
    "        game_on = True\n",
    "    else:\n",
    "        game_on = False\n",
    "\n",
    "    while game_on:\n",
    "        if turn == 'Player 1':\n",
    "            # Player1's turn.\n",
    "            \n",
    "            display_board(theBoard)\n",
    "            position = player_choice(theBoard)\n",
    "            place_marker(theBoard, player1_marker, position)\n",
    "\n",
    "            if win_check(theBoard, player1_marker):\n",
    "                display_board(theBoard)\n",
    "                print('Congratulations! You have won the game!')\n",
    "                game_on = False\n",
    "            else:\n",
    "                if full_board_check(theBoard):\n",
    "                    display_board(theBoard)\n",
    "                    print('The game is a draw!')\n",
    "                    break\n",
    "                else:\n",
    "                    turn = 'Player 2'\n",
    "\n",
    "        else:\n",
    "            # Player2's turn.\n",
    "            \n",
    "            display_board(theBoard)\n",
    "            position = player_choice(theBoard)\n",
    "            place_marker(theBoard, player2_marker, position)\n",
    "\n",
    "            if win_check(theBoard, player2_marker):\n",
    "                display_board(theBoard)\n",
    "                print('Player 2 has won!')\n",
    "                game_on = False\n",
    "            else:\n",
    "                if full_board_check(theBoard):\n",
    "                    display_board(theBoard)\n",
    "                    print('The game is a draw!')\n",
    "                    break\n",
    "                else:\n",
    "                    turn = 'Player 1'\n",
    "\n",
    "    if not replay():\n",
    "        break"
   ]
  },
  {
   "cell_type": "code",
   "execution_count": null,
   "id": "7a4cb54d-7dc6-492d-af03-f51ef2797d16",
   "metadata": {},
   "outputs": [],
   "source": []
  }
 ],
 "metadata": {
  "kernelspec": {
   "display_name": "Python 3 (ipykernel)",
   "language": "python",
   "name": "python3"
  },
  "language_info": {
   "codemirror_mode": {
    "name": "ipython",
    "version": 3
   },
   "file_extension": ".py",
   "mimetype": "text/x-python",
   "name": "python",
   "nbconvert_exporter": "python",
   "pygments_lexer": "ipython3",
   "version": "3.12.7"
  }
 },
 "nbformat": 4,
 "nbformat_minor": 5
}
